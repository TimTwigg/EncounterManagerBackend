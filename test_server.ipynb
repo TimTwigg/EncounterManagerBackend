{
 "cells": [
  {
   "cell_type": "code",
   "execution_count": null,
   "metadata": {},
   "outputs": [],
   "source": [
    "from urllib import request\n",
    "from pprint import pprint\n",
    "import json"
   ]
  },
  {
   "cell_type": "code",
   "execution_count": null,
   "metadata": {},
   "outputs": [],
   "source": [
    "res = request.urlopen(\"http://localhost:8080/statblock?name=winter+ghoul&detail_level=2\")\n",
    "print(res.status)\n",
    "pprint(json.loads(res.read().decode(\"utf-8\")))"
   ]
  },
  {
   "cell_type": "code",
   "execution_count": null,
   "metadata": {},
   "outputs": [],
   "source": [
    "res = request.urlopen(\"http://localhost:8080/statblock/all\")\n",
    "print(res.status)\n",
    "pprint(json.loads(res.read().decode(\"utf-8\")))"
   ]
  },
  {
   "cell_type": "code",
   "execution_count": null,
   "metadata": {},
   "outputs": [],
   "source": [
    "res = request.urlopen(\"http://localhost:8080/encounter?name=Encounter+1\")\n",
    "print(res.status)\n",
    "pprint(json.loads(res.read().decode(\"utf-8\")))"
   ]
  },
  {
   "cell_type": "code",
   "execution_count": null,
   "metadata": {},
   "outputs": [],
   "source": [
    "res = request.urlopen(\"http://localhost:8080/encounter/all?detail_level=1\")\n",
    "print(res.status)\n",
    "data = json.loads(res.read().decode(\"utf-8\"))\n",
    "pprint(data)"
   ]
  }
 ],
 "metadata": {
  "kernelspec": {
   "display_name": "Python 3",
   "language": "python",
   "name": "python3"
  },
  "language_info": {
   "codemirror_mode": {
    "name": "ipython",
    "version": 3
   },
   "file_extension": ".py",
   "mimetype": "text/x-python",
   "name": "python",
   "nbconvert_exporter": "python",
   "pygments_lexer": "ipython3",
   "version": "3.12.0"
  }
 },
 "nbformat": 4,
 "nbformat_minor": 2
}
