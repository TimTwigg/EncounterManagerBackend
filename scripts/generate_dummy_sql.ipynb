{
 "cells": [
  {
   "cell_type": "code",
   "execution_count": 2,
   "id": "ad062972",
   "metadata": {},
   "outputs": [],
   "source": [
    "\n",
    "from pathlib import Path\n",
    "import re\n",
    "\n",
    "SCRIPT_DIRS = [\n",
    "    Path(\"./../public_assets/database/scripts/Tables\"),\n",
    "    Path(\"./../public_assets/database/scripts/Views\"),\n",
    "]\n",
    "OUTPUT_FILE = Path(\"./../public_assets/database/scripts/AllTables.sql\")\n",
    "\n",
    "TEMPLATE = \"\"\"BEGIN TRANSACTION;\n",
    "\n",
    "{}\n",
    "\n",
    "COMMIT;\n",
    "\n",
    "PRAGMA INTEGRITY_CHECK;\n",
    "\"\"\"\n",
    "\n",
    "ORDERING = [\n",
    "    \"User\",\n",
    "    \"RecordSource\",\n",
    "    \"Ability\",\n",
    "    \"Condition\",\n",
    "    \"ConditionEffect\",\n",
    "    \"DamageType\",\n",
    "    \"Language\",\n",
    "    \"Size\",\n",
    "    \"Alignment\",\n",
    "    \"EntityType\",\n",
    "    \"ModifierType\",\n",
    "    \"Entity\",\n",
    "    \"EntityStats\",\n",
    "    \"Modifiers\",\n",
    "    \"Proficiencies\",\n",
    "    \"Action\",\n",
    "    \"ActionDamage\",\n",
    "    \"Encounter\",\n",
    "    \"EncounterEntities\",\n",
    "    \"EncEntConditions\",\n",
    "    \"Lair\",\n",
    "    \"SimpleAction\",\n",
    "    \"SpokenLanguage\",\n",
    "    \"SuperAction\",\n",
    "    \"LairActionV\",\n",
    "    \"SuperActionHV\",\n",
    "    \"SuperActionV\",\n",
    "]\n",
    "\n",
    "add_trailing_semicolon = lambda s: s if s.endswith(\";\") else s + \";\"\n",
    "\n",
    "scripts = \"\\n\".join(re.sub(r\"; \", \";\\n\", re.sub(r\"[\\s]+\", \" \", add_trailing_semicolon(f.read_text()))) for dir in SCRIPT_DIRS for f in sorted(dir.iterdir(), key=lambda f: ORDERING.index(f.stem)))\n",
    "\n",
    "_ = OUTPUT_FILE.write_text(TEMPLATE.format(scripts))"
   ]
  }
 ],
 "metadata": {
  "kernelspec": {
   "display_name": "Python 3",
   "language": "python",
   "name": "python3"
  },
  "language_info": {
   "codemirror_mode": {
    "name": "ipython",
    "version": 3
   },
   "file_extension": ".py",
   "mimetype": "text/x-python",
   "name": "python",
   "nbconvert_exporter": "python",
   "pygments_lexer": "ipython3",
   "version": "3.12.0"
  }
 },
 "nbformat": 4,
 "nbformat_minor": 5
}
