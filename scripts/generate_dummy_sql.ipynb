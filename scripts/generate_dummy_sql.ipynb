{
 "cells": [
  {
   "cell_type": "code",
   "execution_count": 5,
   "id": "ad062972",
   "metadata": {},
   "outputs": [],
   "source": [
    "\n",
    "from pathlib import Path\n",
    "import re\n",
    "\n",
    "SCRIPT_DIRS = [\n",
    "    Path(\"./../public_assets/database/scripts/Tables\"),\n",
    "    Path(\"./../public_assets/database/scripts/Views\"),\n",
    "]\n",
    "OUTPUT_FILE = Path(\"./../public_assets/database/scripts/AllTables.sql\")\n",
    "\n",
    "TEMPLATE = \"\"\"BEGIN TRANSACTION;\n",
    "\n",
    "PRAGMA foreign_keys = OFF;\n",
    "\n",
    "{}\n",
    "\n",
    "PRAGMA foreign_keys = ON;\n",
    "\n",
    "COMMIT;\n",
    "\n",
    "PRAGMA INTEGRITY_CHECK;\n",
    "\"\"\"\n",
    "\n",
    "add_trailing_semicolon = lambda s: s if s.endswith(\";\") else s + \";\"\n",
    "\n",
    "scripts = \"\\n\".join(re.sub(r\"; \", \";\\n\", re.sub(r\"[\\s]+\", \" \", add_trailing_semicolon(f.read_text()))) for dir in SCRIPT_DIRS for f in dir.iterdir())\n",
    "\n",
    "_ = OUTPUT_FILE.write_text(TEMPLATE.format(scripts))"
   ]
  }
 ],
 "metadata": {
  "kernelspec": {
   "display_name": "Python 3",
   "language": "python",
   "name": "python3"
  },
  "language_info": {
   "codemirror_mode": {
    "name": "ipython",
    "version": 3
   },
   "file_extension": ".py",
   "mimetype": "text/x-python",
   "name": "python",
   "nbconvert_exporter": "python",
   "pygments_lexer": "ipython3",
   "version": "3.12.0"
  }
 },
 "nbformat": 4,
 "nbformat_minor": 5
}
