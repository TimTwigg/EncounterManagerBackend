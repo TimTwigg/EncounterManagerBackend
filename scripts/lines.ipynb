{
 "cells": [
  {
   "cell_type": "code",
   "execution_count": null,
   "id": "b05d35a8",
   "metadata": {},
   "outputs": [],
   "source": [
    "from pathlib import Path\n",
    "\n",
    "ROOT_DIR = Path(\"./..\")\n",
    "\n",
    "lines = 0\n",
    "\n",
    "for p in ROOT_DIR.glob(\"**/*.go\"):\n",
    "    if p.is_file():\n",
    "        with open(p, \"r\", encoding=\"utf-8\") as f:\n",
    "            lines += sum(1 for _ in f)\n",
    "\n",
    "print(f\"Total lines of Go code: {lines}\")"
   ]
  }
 ],
 "metadata": {
  "kernelspec": {
   "display_name": "Python 3",
   "language": "python",
   "name": "python3"
  },
  "language_info": {
   "codemirror_mode": {
    "name": "ipython",
    "version": 3
   },
   "file_extension": ".py",
   "mimetype": "text/x-python",
   "name": "python",
   "nbconvert_exporter": "python",
   "pygments_lexer": "ipython3",
   "version": "3.12.0"
  }
 },
 "nbformat": 4,
 "nbformat_minor": 5
}
